{
  "nbformat": 4,
  "nbformat_minor": 0,
  "metadata": {
    "colab": {
      "name": "Sen-1 SAR Image Download.ipynb",
      "provenance": [],
      "collapsed_sections": [
        "KT5s7RBFa9QK",
        "97KL-h-rfHJK"
      ],
      "authorship_tag": "ABX9TyPKaWHkE4ufMJmwn2++KAQj",
      "include_colab_link": true
    },
    "kernelspec": {
      "name": "python3",
      "display_name": "Python 3"
    },
    "language_info": {
      "name": "python"
    }
  },
  "cells": [
    {
      "cell_type": "markdown",
      "metadata": {
        "id": "view-in-github",
        "colab_type": "text"
      },
      "source": [
        "<a href=\"https://colab.research.google.com/github/AsifAlFaisal/sen2-gee/blob/main/Sen_1_SAR_Image_Download.ipynb\" target=\"_parent\"><img src=\"https://colab.research.google.com/assets/colab-badge.svg\" alt=\"Open In Colab\"/></a>"
      ]
    },
    {
      "cell_type": "code",
      "execution_count": null,
      "metadata": {
        "id": "YPah-cgqa2CR",
        "colab": {
          "base_uri": "https://localhost:8080/"
        },
        "outputId": "1897bfd4-ada8-4094-e349-c96e4ff004ef"
      },
      "outputs": [
        {
          "output_type": "stream",
          "name": "stdout",
          "text": [
            "To authorize access needed by Earth Engine, open the following URL in a web browser and follow the instructions. If the web browser does not start automatically, please manually browse the URL below.\n",
            "\n",
            "    https://accounts.google.com/o/oauth2/auth?client_id=517222506229-vsmmajv00ul0bs7p89v5m89qs8eb9359.apps.googleusercontent.com&scope=https%3A%2F%2Fwww.googleapis.com%2Fauth%2Fearthengine+https%3A%2F%2Fwww.googleapis.com%2Fauth%2Fdevstorage.full_control&redirect_uri=urn%3Aietf%3Awg%3Aoauth%3A2.0%3Aoob&response_type=code&code_challenge=p6zlQxWYNQ4YokA5tcQibjuHHQWMooqxDd8MGMJKJVQ&code_challenge_method=S256\n",
            "\n",
            "The authorization workflow will generate a code, which you should paste in the box below. \n",
            "Enter verification code: 4/1AX4XfWiwqlVxGBkH8A9q3IwjDkoMzQ-KMBBPbvsWEQzM9yajmogJVROMXQ4\n",
            "\n",
            "Successfully saved authorization token.\n"
          ]
        }
      ],
      "source": [
        "import ee\n",
        "ee.Authenticate()\n",
        "ee.Initialize()"
      ]
    },
    {
      "cell_type": "markdown",
      "source": [
        "# AOI"
      ],
      "metadata": {
        "id": "KT5s7RBFa9QK"
      }
    },
    {
      "cell_type": "code",
      "source": [
        "geoJSON = {\n",
        "  \"type\": \"FeatureCollection\",\n",
        "  \"features\": [\n",
        "    {\n",
        "      \"type\": \"Feature\",\n",
        "      \"properties\": {},\n",
        "      \"geometry\": {\n",
        "        \"type\": \"MultiPolygon\",\n",
        "        \"coordinates\": [\n",
        "          [\n",
        "            [\n",
        "              92.097050239336184,\n",
        "              21.241923195974895\n",
        "            ],\n",
        "            [\n",
        "              92.229083686509014,\n",
        "              21.243567581915894\n",
        "            ],\n",
        "            [\n",
        "              92.22968129424477,\n",
        "              21.125398839669575\n",
        "            ],\n",
        "            [\n",
        "              92.097400993293448,\n",
        "              21.123881689028394\n",
        "            ],\n",
        "            [\n",
        "              92.097050239336184,\n",
        "              21.241923195974895\n",
        "            ]\n",
        "          ]\n",
        "        ]\n",
        "      }\n",
        "    }\n",
        "  ]\n",
        "}\n",
        "\n",
        "coords = geoJSON['features'][0]['geometry']['coordinates']\n",
        "aoi = ee.Geometry.Polygon(coords)"
      ],
      "metadata": {
        "id": "fSpo8grDa8SC"
      },
      "execution_count": null,
      "outputs": []
    },
    {
      "cell_type": "markdown",
      "source": [
        "# Visualization function"
      ],
      "metadata": {
        "id": "97KL-h-rfHJK"
      }
    },
    {
      "cell_type": "code",
      "source": [
        "# Import the Folium library.\n",
        "import folium\n",
        "\n",
        "# Define a method for displaying Earth Engine image tiles to a folium map.\n",
        "def add_ee_layer(self, ee_image_object, vis_params, name, show=True, opacity=1, min_zoom=0):\n",
        "    map_id_dict = ee.Image(ee_image_object).getMapId(vis_params)\n",
        "    folium.raster_layers.TileLayer(\n",
        "        tiles=map_id_dict['tile_fetcher'].url_format,\n",
        "        attr='Map Data &copy; <a href=\"https://earthengine.google.com/\">Google Earth Engine</a>',\n",
        "        name=name,\n",
        "        show=show,\n",
        "        opacity=opacity,\n",
        "        min_zoom=min_zoom,\n",
        "        overlay=True,\n",
        "        control=True\n",
        "        ).add_to(self)\n",
        "\n",
        "# Add the Earth Engine layer method to folium.\n",
        "folium.Map.add_ee_layer = add_ee_layer\n",
        "\n",
        "def visualize_image(col):\n",
        "    # Mosaic the image collection.\n",
        "    img = col.mosaic()\n",
        "\n",
        "    # Create a folium map object.\n",
        "    center = aoi.centroid(10).coordinates().reverse().getInfo()\n",
        "    m = folium.Map(location=center, zoom_start=12, height=500, width=500)\n",
        "\n",
        "    # Add layers to the folium map.\n",
        "    m.add_ee_layer(img,\n",
        "                   {'bands': ['B4', 'B3', 'B2'], 'min': 0, 'max': 2500, 'gamma': 1.1},\n",
        "                   'S2 image', True, 1, 9)\n",
        "\n",
        "    # Add a layer control panel to the map.\n",
        "    m.add_child(folium.LayerControl())\n",
        "\n",
        "    # Display the map.\n",
        "    display(m)"
      ],
      "metadata": {
        "id": "eO7hoG_KfGre"
      },
      "execution_count": null,
      "outputs": []
    },
    {
      "cell_type": "markdown",
      "source": [
        "# 1.1 Download Function"
      ],
      "metadata": {
        "id": "0Vu_WuUwbAqF"
      }
    },
    {
      "cell_type": "code",
      "source": [
        "import matplotlib.pyplot as plt\n",
        "import IPython.display as disp\n",
        "%matplotlib inline\n",
        "\n",
        "def download_SAR(aoi, start_date, end_date, number_of_image='all', visualize=True):\n",
        "  \"\"\"\n",
        "  start and end date format: 'YYYY-MM-DD'\n",
        "  number_of_image: 'all' or 'first'\n",
        "  \"\"\"\n",
        "  import requests\n",
        "\n",
        "\n",
        "  collection = ee.ImageCollection('COPERNICUS/S1_GRD')\\\n",
        "                  .filterBounds(aoi)\\\n",
        "                  .filterDate(ee.Date(start_date), ee.Date(end_date))\\\n",
        "                  .filterMetadata('transmitterReceiverPolarisation', 'equals', ['VV', 'VH'])\n",
        "\n",
        "  sen2col = ee.ImageCollection('COPERNICUS/S2')\\\n",
        "                  .filterBounds(aoi)\\\n",
        "                  .filterDate(ee.Date(start_date), ee.Date(end_date))\\\n",
        "                  .filter(ee.Filter.lt('CLOUDY_PIXEL_PERCENTAGE', 20))\n",
        "\n",
        "\n",
        "\n",
        "  if number_of_image=='first':\n",
        "    img = ee.Image(collection.first()).clip(aoi)\n",
        "    link = img.getDownloadURL({\n",
        "      'scale':30,\n",
        "      'crs':'EPSG:4326',\n",
        "      'fileFormat': 'GeoTIFF',\n",
        "      'region':aoi\n",
        "      })\n",
        "    dl = requests.get(link, allow_redirects=True)\n",
        "    filename = img.getInfo()['id'].split('_')[5][:8]\n",
        "    open(filename, 'wb').write(dl.content)\n",
        "\n",
        "    if visualize:\n",
        "      print(f\"Image on Date: {filename}\")\n",
        "      visualize_image(sen2col)\n",
        "\n",
        "    \n",
        "  else:\n",
        "    count = collection.size().getInfo()\n",
        "    for i in range(count):\n",
        "      img = ee.Image(collection.toList(1,i).get(0)).clip(aoi)\n",
        "      new_img = ee.Image.rgb(img.select('VV'), img.select('VH'), img.select('VV').divide(img.select('VH')))\n",
        "      link = new_img.getDownloadURL({\n",
        "          'scale':30,\n",
        "          'crs':'EPSG:4326',\n",
        "          'fileFormat': 'GeoTIFF',\n",
        "          'filePerBand':False,\n",
        "          'region':aoi\n",
        "          })\n",
        "      dl = requests.get(link, allow_redirects=True)\n",
        "      filename = img.getInfo()['id'].split('_')[5][:8]\n",
        "      open(f\"{filename}.zip\", 'wb').write(dl.content)\n",
        "\n",
        "      if visualize:\n",
        "        print(f\"Image on Date: {filename}\")\n",
        "        visualize_image(sen2col)"
      ],
      "metadata": {
        "id": "X9CfxuPNa-6-"
      },
      "execution_count": null,
      "outputs": []
    },
    {
      "cell_type": "markdown",
      "source": [
        "# 1.2 Use download_sen1() function and visualize sentinel-2 image on that location\n",
        "\n",
        "date format: 'YYYY-MM-DD'\n",
        "\n",
        "images will be save on the left directory (wait for a while then you can download those files"
      ],
      "metadata": {
        "id": "7k4TCJEIdMHp"
      }
    },
    {
      "cell_type": "code",
      "source": [
        "download_SAR(aoi, \"2019-08-01\", \"2019-08-30\", number_of_image='all', visualize=False)"
      ],
      "metadata": {
        "id": "OX3ppIKyiEa4"
      },
      "execution_count": null,
      "outputs": []
    },
    {
      "cell_type": "code",
      "source": [
        ""
      ],
      "metadata": {
        "id": "v7iy0om8jPnz"
      },
      "execution_count": null,
      "outputs": []
    }
  ]
}