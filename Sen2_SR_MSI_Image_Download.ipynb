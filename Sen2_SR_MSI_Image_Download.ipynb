{
  "nbformat": 4,
  "nbformat_minor": 0,
  "metadata": {
    "colab": {
      "name": "Sen2_SR/MSI Image Download.ipynb",
      "provenance": [],
      "collapsed_sections": [
        "k7yefMWwX-G5",
        "bl3QbIkGXosf"
      ],
      "authorship_tag": "ABX9TyNPZ/jpsNpgjxwt0skyiCjc",
      "include_colab_link": true
    },
    "kernelspec": {
      "name": "python3",
      "display_name": "Python 3"
    },
    "language_info": {
      "name": "python"
    }
  },
  "cells": [
    {
      "cell_type": "markdown",
      "metadata": {
        "id": "view-in-github",
        "colab_type": "text"
      },
      "source": [
        "<a href=\"https://colab.research.google.com/github/AsifAlFaisal/sen2-gee/blob/main/Sen2_SR_MSI_Image_Download.ipynb\" target=\"_parent\"><img src=\"https://colab.research.google.com/assets/colab-badge.svg\" alt=\"Open In Colab\"/></a>"
      ]
    },
    {
      "cell_type": "code",
      "execution_count": null,
      "metadata": {
        "id": "3p4v8bg-s0Vs"
      },
      "outputs": [],
      "source": [
        "import ee\n",
        "ee.Authenticate()\n",
        "ee.Initialize()"
      ]
    },
    {
      "cell_type": "markdown",
      "source": [
        "# Viz Func"
      ],
      "metadata": {
        "id": "k7yefMWwX-G5"
      }
    },
    {
      "cell_type": "code",
      "source": [
        "# Import the Folium library.\n",
        "import folium\n",
        "\n",
        "# Define a method for displaying Earth Engine image tiles to a folium map.\n",
        "def add_ee_layer(self, ee_image_object, vis_params, name, show=True, opacity=1, min_zoom=0):\n",
        "    map_id_dict = ee.Image(ee_image_object).getMapId(vis_params)\n",
        "    folium.raster_layers.TileLayer(\n",
        "        tiles=map_id_dict['tile_fetcher'].url_format,\n",
        "        attr='Map Data &copy; <a href=\"https://earthengine.google.com/\">Google Earth Engine</a>',\n",
        "        name=name,\n",
        "        show=show,\n",
        "        opacity=opacity,\n",
        "        min_zoom=min_zoom,\n",
        "        overlay=True,\n",
        "        control=True\n",
        "        ).add_to(self)\n",
        "\n",
        "# Add the Earth Engine layer method to folium.\n",
        "folium.Map.add_ee_layer = add_ee_layer\n",
        "\n",
        "def visualize_image(col):\n",
        "    # Mosaic the image collection.\n",
        "    #img = col.mosaic()\n",
        "\n",
        "    # Create a folium map object.\n",
        "    center = aoi.centroid(10).coordinates().reverse().getInfo()\n",
        "    m = folium.Map(location=center, zoom_start=12, height=500, width=500)\n",
        "\n",
        "    # Add layers to the folium map.\n",
        "    m.add_ee_layer(img,\n",
        "                   {'bands': ['B4', 'B3', 'B2'], 'min': 0, 'max': 2500, 'gamma': 1.1},\n",
        "                   'S2 image', True, 1, 9)\n",
        "\n",
        "    # Add a layer control panel to the map.\n",
        "    m.add_child(folium.LayerControl())\n",
        "\n",
        "    # Display the map.\n",
        "    display(m)"
      ],
      "metadata": {
        "id": "l0ptu8nRYCc2"
      },
      "execution_count": 5,
      "outputs": []
    },
    {
      "cell_type": "markdown",
      "source": [
        "# AOI"
      ],
      "metadata": {
        "id": "bl3QbIkGXosf"
      }
    },
    {
      "cell_type": "code",
      "source": [
        "geoJSON = {\n",
        "  \"type\": \"FeatureCollection\",\n",
        "  \"features\": [\n",
        "    {\n",
        "      \"type\": \"Feature\",\n",
        "      \"properties\": {},\n",
        "      \"geometry\": {\n",
        "        \"type\": \"MultiPolygon\",\n",
        "        \"coordinates\": [\n",
        "          [\n",
        "            [\n",
        "              92.097050239336184,\n",
        "              21.241923195974895\n",
        "            ],\n",
        "            [\n",
        "              92.229083686509014,\n",
        "              21.243567581915894\n",
        "            ],\n",
        "            [\n",
        "              92.22968129424477,\n",
        "              21.125398839669575\n",
        "            ],\n",
        "            [\n",
        "              92.097400993293448,\n",
        "              21.123881689028394\n",
        "            ],\n",
        "            [\n",
        "              92.097050239336184,\n",
        "              21.241923195974895\n",
        "            ]\n",
        "          ]\n",
        "        ]\n",
        "      }\n",
        "    }\n",
        "  ]\n",
        "}\n",
        "\n",
        "coords = geoJSON['features'][0]['geometry']['coordinates']\n",
        "aoi = ee.Geometry.Polygon(coords)"
      ],
      "metadata": {
        "id": "S2ghUDvxXqr_"
      },
      "execution_count": 6,
      "outputs": []
    },
    {
      "cell_type": "markdown",
      "source": [
        ""
      ],
      "metadata": {
        "id": "8hLI5SV-Xul3"
      }
    },
    {
      "cell_type": "markdown",
      "source": [
        "# S2 SR/MSI Collection Build"
      ],
      "metadata": {
        "id": "EFvuuBWQXwbP"
      }
    },
    {
      "cell_type": "code",
      "source": [
        "def get_S2_col(aoi, start_date, end_date, cloud_filter, collection=\"S2_SR\"):\n",
        "  \"\"\"\n",
        "  collection -  S2_SR or S2_MSI\n",
        "  \"\"\"\n",
        "  if collection=='S2_SR':\n",
        "    s2_sr_col = (ee.ImageCollection('COPERNICUS/S2_SR')\\\n",
        "        .filterBounds(aoi)\\\n",
        "        .filterDate(start_date, end_date)\\\n",
        "        .filter(ee.Filter.lte('CLOUDY_PIXEL_PERCENTAGE', cloud_filter)))\n",
        "    return s2_sr_col\n",
        "  else:  \n",
        "    s2_msi_col = (ee.ImageCollection('COPERNICUS/S2')\\\n",
        "        .filterBounds(aoi)\\\n",
        "        .filterDate(start_date, end_date)\\\n",
        "        .filter(ee.Filter.lte('CLOUDY_PIXEL_PERCENTAGE', cloud_filter)))\n",
        "    return s2_msi_col"
      ],
      "metadata": {
        "id": "m9-H356fX1gb"
      },
      "execution_count": 7,
      "outputs": []
    },
    {
      "cell_type": "markdown",
      "source": [
        "# S2 SR Download"
      ],
      "metadata": {
        "id": "jAQKchf3gOnX"
      }
    },
    {
      "cell_type": "code",
      "source": [
        "ST_DT = '2019-08-20'\n",
        "ED_DT = '2019-09-20'\n",
        "CLOUD_FILTER = 60\n",
        "\n",
        "\n",
        "s2_sr = get_S2_col(aoi, ST_DT, ED_DT, CLOUD_FILTER, collection=\"S2_SR\")\n",
        "s2_sr_count = s2_sr.size().getInfo()\n",
        "print(f\"Sentinel-2 SR- number of images within given dates: {s2_sr_count}\")\n",
        "import requests\n",
        "for i in range(s2_sr_count):\n",
        "  img = ee.Image(s2_sr.toList(1,i).get(0)).clip(aoi)\n",
        "  #visualize_image(img)\n",
        "  bands = ['B2','B3','B4','B5','B6','B7','B8','B8A','B11','B12']\n",
        "  link = img.select(bands).getDownloadURL({\n",
        "          'scale':20,\n",
        "          'crs':'EPSG:32646',\n",
        "          'fileFormat': 'GeoTIFF',\n",
        "          'filePerBand':False,\n",
        "          'region':aoi\n",
        "          })\n",
        "  dl = requests.get(link, allow_redirects=True)\n",
        "  filename = f\"S2SR_{img.getInfo()['properties']['system:index'][:8]}\"\n",
        "  open(f\"{filename}.zip\", 'wb').write(dl.content)\n",
        "  #visualize_image(img)"
      ],
      "metadata": {
        "colab": {
          "base_uri": "https://localhost:8080/"
        },
        "id": "7zcExdu-ZL-h",
        "outputId": "03261c74-933c-49da-a7a2-a8ee1c2491b0"
      },
      "execution_count": 52,
      "outputs": [
        {
          "output_type": "stream",
          "name": "stdout",
          "text": [
            "Sentinel-2 SR- number of images within given dates: 2\n"
          ]
        }
      ]
    },
    {
      "cell_type": "markdown",
      "source": [
        "# S2 MSI Download"
      ],
      "metadata": {
        "id": "OqDLgJjIhGIh"
      }
    },
    {
      "cell_type": "code",
      "source": [
        "ST_DT = '2019-08-20'\n",
        "ED_DT = '2019-09-20'\n",
        "CLOUD_FILTER = 60\n",
        "\n",
        "\n",
        "s2_msi = get_S2_col(aoi, ST_DT, ED_DT, CLOUD_FILTER, collection=\"S2_MSI\")\n",
        "s2_msi_count = s2_msi.size().getInfo()\n",
        "print(f\"Sentinel-2 MSI- number of images within given dates: {s2_msi_count}\")\n",
        "\n",
        "import requests\n",
        "for i in range(s2_msi_count):\n",
        "  img = ee.Image(s2_msi.toList(1,i).get(0)).clip(aoi)\n",
        "  #visualize_image(img)\n",
        "  bands = ['B2','B3','B4','B5','B6','B7','B8','B8A','B11','B12']\n",
        "  link = img.select(bands).getDownloadURL({\n",
        "          'scale':20,\n",
        "          'crs':'EPSG:32646',\n",
        "          'fileFormat': 'GeoTIFF',\n",
        "          'filePerBand':False,\n",
        "          'region':aoi\n",
        "          })\n",
        "  dl = requests.get(link, allow_redirects=True)\n",
        "  filename = f\"S2MSI_{img.getInfo()['properties']['system:index'][:8]}\"\n",
        "  open(f\"{filename}.zip\", 'wb').write(dl.content)\n",
        "  #visualize_image(img)"
      ],
      "metadata": {
        "colab": {
          "base_uri": "https://localhost:8080/"
        },
        "id": "5Mn78feke6Dn",
        "outputId": "ce4c1b40-e652-4bf0-c494-ca6e141afd41"
      },
      "execution_count": 11,
      "outputs": [
        {
          "output_type": "stream",
          "name": "stdout",
          "text": [
            "Sentinel-2 MSI- number of images within given dates: 3\n"
          ]
        }
      ]
    }
  ]
}